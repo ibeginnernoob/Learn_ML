{
 "cells": [
  {
   "cell_type": "markdown",
   "id": "1b95473c-847d-4174-86b3-3e379d6e6cab",
   "metadata": {},
   "source": [
    "# Numpy Series"
   ]
  },
  {
   "cell_type": "code",
   "execution_count": 54,
   "id": "3f4de596-0147-410b-a993-2cba2993f06f",
   "metadata": {},
   "outputs": [
    {
     "data": {
      "text/plain": [
       "'2.2.2'"
      ]
     },
     "execution_count": 54,
     "metadata": {},
     "output_type": "execute_result"
    }
   ],
   "source": [
    "import pandas as pd\n",
    "import numpy as np\n",
    "\n",
    "pd.__version__"
   ]
  },
  {
   "cell_type": "code",
   "execution_count": 56,
   "id": "7e78258e-433e-4f97-9e97-1ea942081a69",
   "metadata": {},
   "outputs": [
    {
     "data": {
      "text/plain": [
       "array([0, 1, 2, 3, 4, 5])"
      ]
     },
     "execution_count": 56,
     "metadata": {},
     "output_type": "execute_result"
    }
   ],
   "source": [
    "array=np.arange(6)\n",
    "\n",
    "array"
   ]
  },
  {
   "cell_type": "code",
   "execution_count": 58,
   "id": "98ad98f1-a5bc-4e20-862c-38757e84dea6",
   "metadata": {},
   "outputs": [
    {
     "data": {
      "text/plain": [
       "0    0\n",
       "1    1\n",
       "2    2\n",
       "3    3\n",
       "4    4\n",
       "5    5\n",
       "Name: new_series, dtype: int64"
      ]
     },
     "execution_count": 58,
     "metadata": {},
     "output_type": "execute_result"
    }
   ],
   "source": [
    "new_series=pd.Series(array,name=\"new_series\")\n",
    "\n",
    "new_series"
   ]
  },
  {
   "cell_type": "code",
   "execution_count": 60,
   "id": "2011876c-6920-45cc-a384-41eec4a35a76",
   "metadata": {},
   "outputs": [
    {
     "data": {
      "text/plain": [
       "2.5"
      ]
     },
     "execution_count": 60,
     "metadata": {},
     "output_type": "execute_result"
    }
   ],
   "source": [
    "new_series.mean()"
   ]
  },
  {
   "cell_type": "code",
   "execution_count": 62,
   "id": "65138ad8-daeb-4652-a851-84654574dcca",
   "metadata": {},
   "outputs": [
    {
     "data": {
      "text/plain": [
       "dtype('int64')"
      ]
     },
     "execution_count": 62,
     "metadata": {},
     "output_type": "execute_result"
    }
   ],
   "source": [
    "    new_series.dtype"
   ]
  },
  {
   "cell_type": "code",
   "execution_count": 64,
   "id": "be0476c3-720b-46cb-8495-20dcfaa8a3b0",
   "metadata": {},
   "outputs": [
    {
     "data": {
      "text/plain": [
       "array([0, 1, 2, 3, 4, 5])"
      ]
     },
     "execution_count": 64,
     "metadata": {},
     "output_type": "execute_result"
    }
   ],
   "source": [
    "new_series.values # built on top numpy arrays"
   ]
  },
  {
   "cell_type": "code",
   "execution_count": 66,
   "id": "8f1dfe55-04b4-438e-9319-98056c66fc12",
   "metadata": {},
   "outputs": [
    {
     "data": {
      "text/plain": [
       "10    0\n",
       "20    1\n",
       "30    2\n",
       "40    3\n",
       "50    4\n",
       "60    5\n",
       "Name: new_series, dtype: int64"
      ]
     },
     "execution_count": 66,
     "metadata": {},
     "output_type": "execute_result"
    }
   ],
   "source": [
    "new_series.index=[10,20,30,40,50,60]\n",
    "\n",
    "new_series"
   ]
  },
  {
   "cell_type": "code",
   "execution_count": 68,
   "id": "d7373372-108d-488c-b750-ad6067ab43e6",
   "metadata": {},
   "outputs": [
    {
     "ename": "AttributeError",
     "evalue": "'Series' object has no attribute 'reshape'",
     "output_type": "error",
     "traceback": [
      "\u001b[0;31m---------------------------------------------------------------------------\u001b[0m",
      "\u001b[0;31mAttributeError\u001b[0m                            Traceback (most recent call last)",
      "\u001b[0;32m/var/folders/cv/4w60xr2x0993f12vnrzgsj_h0000gn/T/ipykernel_4481/1684587813.py\u001b[0m in \u001b[0;36m?\u001b[0;34m()\u001b[0m\n\u001b[0;32m----> 1\u001b[0;31m \u001b[0mnew_series\u001b[0m\u001b[0;34m.\u001b[0m\u001b[0mreshape\u001b[0m\u001b[0;34m(\u001b[0m\u001b[0;36m3\u001b[0m\u001b[0;34m,\u001b[0m\u001b[0;36m2\u001b[0m\u001b[0;34m)\u001b[0m\u001b[0;34m\u001b[0m\u001b[0;34m\u001b[0m\u001b[0m\n\u001b[0m\u001b[1;32m      2\u001b[0m \u001b[0;34m\u001b[0m\u001b[0m\n\u001b[1;32m      3\u001b[0m \u001b[0mnew_series\u001b[0m\u001b[0;34m\u001b[0m\u001b[0;34m\u001b[0m\u001b[0m\n",
      "\u001b[0;32m/opt/anaconda3/lib/python3.12/site-packages/pandas/core/generic.py\u001b[0m in \u001b[0;36m?\u001b[0;34m(self, name)\u001b[0m\n\u001b[1;32m   6295\u001b[0m             \u001b[0;32mand\u001b[0m \u001b[0mname\u001b[0m \u001b[0;32mnot\u001b[0m \u001b[0;32min\u001b[0m \u001b[0mself\u001b[0m\u001b[0;34m.\u001b[0m\u001b[0m_accessors\u001b[0m\u001b[0;34m\u001b[0m\u001b[0;34m\u001b[0m\u001b[0m\n\u001b[1;32m   6296\u001b[0m             \u001b[0;32mand\u001b[0m \u001b[0mself\u001b[0m\u001b[0;34m.\u001b[0m\u001b[0m_info_axis\u001b[0m\u001b[0;34m.\u001b[0m\u001b[0m_can_hold_identifiers_and_holds_name\u001b[0m\u001b[0;34m(\u001b[0m\u001b[0mname\u001b[0m\u001b[0;34m)\u001b[0m\u001b[0;34m\u001b[0m\u001b[0;34m\u001b[0m\u001b[0m\n\u001b[1;32m   6297\u001b[0m         \u001b[0;34m)\u001b[0m\u001b[0;34m:\u001b[0m\u001b[0;34m\u001b[0m\u001b[0;34m\u001b[0m\u001b[0m\n\u001b[1;32m   6298\u001b[0m             \u001b[0;32mreturn\u001b[0m \u001b[0mself\u001b[0m\u001b[0;34m[\u001b[0m\u001b[0mname\u001b[0m\u001b[0;34m]\u001b[0m\u001b[0;34m\u001b[0m\u001b[0;34m\u001b[0m\u001b[0m\n\u001b[0;32m-> 6299\u001b[0;31m         \u001b[0;32mreturn\u001b[0m \u001b[0mobject\u001b[0m\u001b[0;34m.\u001b[0m\u001b[0m__getattribute__\u001b[0m\u001b[0;34m(\u001b[0m\u001b[0mself\u001b[0m\u001b[0;34m,\u001b[0m \u001b[0mname\u001b[0m\u001b[0;34m)\u001b[0m\u001b[0;34m\u001b[0m\u001b[0;34m\u001b[0m\u001b[0m\n\u001b[0m",
      "\u001b[0;31mAttributeError\u001b[0m: 'Series' object has no attribute 'reshape'"
     ]
    }
   ],
   "source": [
    "new_series.reshape(3,2)\n",
    "\n",
    "new_series"
   ]
  },
  {
   "cell_type": "markdown",
   "id": "822387df-4add-4c23-8d5b-f2bbbbd8b640",
   "metadata": {},
   "source": [
    "# Type conversion"
   ]
  },
  {
   "cell_type": "code",
   "execution_count": 71,
   "id": "1bb87bb5-0a4a-4339-8a5a-9978d8eaa060",
   "metadata": {},
   "outputs": [
    {
     "data": {
      "text/plain": [
       "0    0\n",
       "1    1\n",
       "2    2\n",
       "3    3\n",
       "4    4\n",
       "5    5\n",
       "6    6\n",
       "7    7\n",
       "8    8\n",
       "9    9\n",
       "dtype: int64"
      ]
     },
     "execution_count": 71,
     "metadata": {},
     "output_type": "execute_result"
    }
   ],
   "source": [
    "new_series=pd.Series(np.arange(10))\n",
    "\n",
    "new_series"
   ]
  },
  {
   "cell_type": "code",
   "execution_count": 73,
   "id": "e1dcb896-bf3f-4153-9dbf-4d2e3a9ba524",
   "metadata": {},
   "outputs": [
    {
     "data": {
      "text/plain": [
       "0    0\n",
       "1    1\n",
       "2    2\n",
       "3    3\n",
       "4    4\n",
       "5    5\n",
       "6    6\n",
       "7    7\n",
       "8    8\n",
       "9    9\n",
       "dtype: int64"
      ]
     },
     "execution_count": 73,
     "metadata": {},
     "output_type": "execute_result"
    }
   ],
   "source": [
    "new_series.astype('int')"
   ]
  },
  {
   "cell_type": "code",
   "execution_count": 75,
   "id": "7db98688-9776-4455-b730-d5444fc8d205",
   "metadata": {},
   "outputs": [
    {
     "data": {
      "text/plain": [
       "0    0.0\n",
       "1    1.0\n",
       "2    2.0\n",
       "3    3.0\n",
       "4    4.0\n",
       "5    5.0\n",
       "6    6.0\n",
       "7    7.0\n",
       "8    8.0\n",
       "9    9.0\n",
       "dtype: float64"
      ]
     },
     "execution_count": 75,
     "metadata": {},
     "output_type": "execute_result"
    }
   ],
   "source": [
    "new_series.astype('float')"
   ]
  },
  {
   "cell_type": "code",
   "execution_count": 77,
   "id": "ab08499b-a86b-439e-b366-09843358a5dd",
   "metadata": {},
   "outputs": [
    {
     "data": {
      "text/plain": [
       "0    False\n",
       "1     True\n",
       "2     True\n",
       "3     True\n",
       "4     True\n",
       "5     True\n",
       "6     True\n",
       "7     True\n",
       "8     True\n",
       "9     True\n",
       "dtype: bool"
      ]
     },
     "execution_count": 77,
     "metadata": {},
     "output_type": "execute_result"
    }
   ],
   "source": [
    "new_series.astype('bool')"
   ]
  },
  {
   "cell_type": "code",
   "execution_count": 79,
   "id": "da5a7da5-c858-4fb8-bc07-1156c05aa160",
   "metadata": {},
   "outputs": [
    {
     "data": {
      "text/plain": [
       "0    0\n",
       "1    1\n",
       "2    2\n",
       "3    3\n",
       "4    4\n",
       "5    5\n",
       "6    6\n",
       "7    7\n",
       "8    8\n",
       "9    9\n",
       "dtype: string"
      ]
     },
     "execution_count": 79,
     "metadata": {},
     "output_type": "execute_result"
    }
   ],
   "source": [
    "new_series.astype('string')"
   ]
  },
  {
   "cell_type": "code",
   "execution_count": 81,
   "id": "e6ffbf4f-9350-40f0-b91a-f0a15a10d075",
   "metadata": {},
   "outputs": [
    {
     "data": {
      "text/plain": [
       "0    0\n",
       "1    1\n",
       "2    2\n",
       "3    3\n",
       "4    4\n",
       "5    5\n",
       "6    6\n",
       "7    7\n",
       "8    8\n",
       "9    9\n",
       "dtype: object"
      ]
     },
     "execution_count": 81,
     "metadata": {},
     "output_type": "execute_result"
    }
   ],
   "source": [
    "new_series.astype('object')"
   ]
  },
  {
   "cell_type": "markdown",
   "id": "412541de-cb66-4656-8157-cd96d95fe264",
   "metadata": {},
   "source": [
    "# Pandas Series Slicing and Indexing"
   ]
  },
  {
   "cell_type": "code",
   "execution_count": 84,
   "id": "2553c3ba-9b84-4337-b5f6-d7662bb0df31",
   "metadata": {},
   "outputs": [
    {
     "data": {
      "text/plain": [
       "0    0\n",
       "1    1\n",
       "2    2\n",
       "3    3\n",
       "4    4\n",
       "dtype: int64"
      ]
     },
     "execution_count": 84,
     "metadata": {},
     "output_type": "execute_result"
    }
   ],
   "source": [
    "series=pd.Series(range(5))\n",
    "\n",
    "series"
   ]
  },
  {
   "cell_type": "code",
   "execution_count": 86,
   "id": "38083884-71f9-46d2-aae6-772a47843031",
   "metadata": {},
   "outputs": [
    {
     "data": {
      "text/plain": [
       "1    1\n",
       "2    2\n",
       "dtype: int64"
      ]
     },
     "execution_count": 86,
     "metadata": {},
     "output_type": "execute_result"
    }
   ],
   "source": [
    "series[1:3]"
   ]
  },
  {
   "cell_type": "code",
   "execution_count": 88,
   "id": "260ee92b-5ce3-4b3b-b4be-1667f580526d",
   "metadata": {},
   "outputs": [
    {
     "data": {
      "text/plain": [
       "day 0    0\n",
       "day 1    1\n",
       "day 2    2\n",
       "day 3    3\n",
       "day 4    4\n",
       "dtype: int64"
      ]
     },
     "execution_count": 88,
     "metadata": {},
     "output_type": "execute_result"
    }
   ],
   "source": [
    "series.index=['day 0','day 1','day 2','day 3','day 4']\n",
    "\n",
    "series"
   ]
  },
  {
   "cell_type": "code",
   "execution_count": 90,
   "id": "8d29d78a-4f05-4df6-a69a-3faabec3a8f8",
   "metadata": {},
   "outputs": [
    {
     "data": {
      "text/plain": [
       "day 1    1\n",
       "day 2    2\n",
       "day 3    3\n",
       "dtype: int64"
      ]
     },
     "execution_count": 90,
     "metadata": {},
     "output_type": "execute_result"
    }
   ],
   "source": [
    "series['day 1':'day 3']"
   ]
  },
  {
   "cell_type": "markdown",
   "id": "203ca4f3-0497-4751-a818-7c668fde9d98",
   "metadata": {},
   "source": [
    "## .iloc accessor"
   ]
  },
  {
   "cell_type": "code",
   "execution_count": 93,
   "id": "68daf8cd-7544-4ebd-9e55-e56a0b54fb36",
   "metadata": {},
   "outputs": [
    {
     "data": {
      "text/plain": [
       "2"
      ]
     },
     "execution_count": 93,
     "metadata": {},
     "output_type": "execute_result"
    }
   ],
   "source": [
    "series.iloc[2]"
   ]
  },
  {
   "cell_type": "code",
   "execution_count": 95,
   "id": "8dd78484-fe52-43b0-b693-61369fc751aa",
   "metadata": {},
   "outputs": [
    {
     "data": {
      "text/plain": [
       "day 0    0\n",
       "day 2    2\n",
       "day 4    4\n",
       "dtype: int64"
      ]
     },
     "execution_count": 95,
     "metadata": {},
     "output_type": "execute_result"
    }
   ],
   "source": [
    "series.iloc[[0,2,4]]"
   ]
  },
  {
   "cell_type": "code",
   "execution_count": 97,
   "id": "88858bd9-e1e2-44a0-b502-2de99ddafc9c",
   "metadata": {},
   "outputs": [
    {
     "data": {
      "text/plain": [
       "day 1    1\n",
       "day 2    2\n",
       "day 3    3\n",
       "dtype: int64"
      ]
     },
     "execution_count": 97,
     "metadata": {},
     "output_type": "execute_result"
    }
   ],
   "source": [
    "series.iloc[1:4]"
   ]
  },
  {
   "cell_type": "markdown",
   "id": "b8f78b6b-7077-4299-a53f-63cb93dacfc1",
   "metadata": {},
   "source": [
    "## .loc accessor (custom labels)"
   ]
  },
  {
   "cell_type": "code",
   "execution_count": 100,
   "id": "5f66706a-2596-42ac-bc78-adf46a683765",
   "metadata": {},
   "outputs": [
    {
     "data": {
      "text/plain": [
       "1"
      ]
     },
     "execution_count": 100,
     "metadata": {},
     "output_type": "execute_result"
    }
   ],
   "source": [
    "series.loc['day 1']"
   ]
  },
  {
   "cell_type": "code",
   "execution_count": 102,
   "id": "cca40041-bc3f-4ff3-a723-bd1616dd1321",
   "metadata": {},
   "outputs": [
    {
     "data": {
      "text/plain": [
       "day 1    1\n",
       "day 3    3\n",
       "dtype: int64"
      ]
     },
     "execution_count": 102,
     "metadata": {},
     "output_type": "execute_result"
    }
   ],
   "source": [
    "series.loc[['day 1','day 3']]"
   ]
  },
  {
   "cell_type": "code",
   "execution_count": 104,
   "id": "6070afa3-d650-499f-89f3-b7120f626be8",
   "metadata": {},
   "outputs": [
    {
     "data": {
      "text/plain": [
       "day 1    1\n",
       "day 2    2\n",
       "day 3    3\n",
       "dtype: int64"
      ]
     },
     "execution_count": 104,
     "metadata": {},
     "output_type": "execute_result"
    }
   ],
   "source": [
    "series.loc['day 1':'day 3']"
   ]
  },
  {
   "cell_type": "markdown",
   "id": "f57f7470-e4b5-4d34-b0fd-d52ef219910e",
   "metadata": {},
   "source": [
    "## duplicate indexes and resetting indexes"
   ]
  },
  {
   "cell_type": "code",
   "execution_count": 107,
   "id": "937bd0e4-de11-411a-9279-4a988269ebbf",
   "metadata": {},
   "outputs": [
    {
     "data": {
      "text/plain": [
       "day 0    0\n",
       "day 0    1\n",
       "day 0    2\n",
       "day 2    3\n",
       "day 2    4\n",
       "dtype: int64"
      ]
     },
     "execution_count": 107,
     "metadata": {},
     "output_type": "execute_result"
    }
   ],
   "source": [
    "series.index=['day 0','day 0','day 0','day 2','day 2']\n",
    "\n",
    "series"
   ]
  },
  {
   "cell_type": "code",
   "execution_count": 109,
   "id": "e44288aa-28d0-4469-aace-cf406a6e0d61",
   "metadata": {},
   "outputs": [
    {
     "data": {
      "text/plain": [
       "day 0    0\n",
       "day 0    1\n",
       "day 0    2\n",
       "dtype: int64"
      ]
     },
     "execution_count": 109,
     "metadata": {},
     "output_type": "execute_result"
    }
   ],
   "source": [
    "series.loc['day 0']"
   ]
  },
  {
   "cell_type": "code",
   "execution_count": 111,
   "id": "a5deca24-563c-411c-ab59-80ca827f051b",
   "metadata": {},
   "outputs": [
    {
     "data": {
      "text/html": [
       "<div>\n",
       "<style scoped>\n",
       "    .dataframe tbody tr th:only-of-type {\n",
       "        vertical-align: middle;\n",
       "    }\n",
       "\n",
       "    .dataframe tbody tr th {\n",
       "        vertical-align: top;\n",
       "    }\n",
       "\n",
       "    .dataframe thead th {\n",
       "        text-align: right;\n",
       "    }\n",
       "</style>\n",
       "<table border=\"1\" class=\"dataframe\">\n",
       "  <thead>\n",
       "    <tr style=\"text-align: right;\">\n",
       "      <th></th>\n",
       "      <th>index</th>\n",
       "      <th>0</th>\n",
       "    </tr>\n",
       "  </thead>\n",
       "  <tbody>\n",
       "    <tr>\n",
       "      <th>0</th>\n",
       "      <td>day 0</td>\n",
       "      <td>0</td>\n",
       "    </tr>\n",
       "    <tr>\n",
       "      <th>1</th>\n",
       "      <td>day 0</td>\n",
       "      <td>1</td>\n",
       "    </tr>\n",
       "    <tr>\n",
       "      <th>2</th>\n",
       "      <td>day 0</td>\n",
       "      <td>2</td>\n",
       "    </tr>\n",
       "    <tr>\n",
       "      <th>3</th>\n",
       "      <td>day 2</td>\n",
       "      <td>3</td>\n",
       "    </tr>\n",
       "    <tr>\n",
       "      <th>4</th>\n",
       "      <td>day 2</td>\n",
       "      <td>4</td>\n",
       "    </tr>\n",
       "  </tbody>\n",
       "</table>\n",
       "</div>"
      ],
      "text/plain": [
       "   index  0\n",
       "0  day 0  0\n",
       "1  day 0  1\n",
       "2  day 0  2\n",
       "3  day 2  3\n",
       "4  day 2  4"
      ]
     },
     "execution_count": 111,
     "metadata": {},
     "output_type": "execute_result"
    }
   ],
   "source": [
    "series.reset_index() # generates a dataframe by default."
   ]
  },
  {
   "cell_type": "code",
   "execution_count": 113,
   "id": "4560b1a5-3d95-423a-b1f7-18cc3e3f8d15",
   "metadata": {},
   "outputs": [
    {
     "data": {
      "text/plain": [
       "0    0\n",
       "1    1\n",
       "2    2\n",
       "3    3\n",
       "4    4\n",
       "dtype: int64"
      ]
     },
     "execution_count": 113,
     "metadata": {},
     "output_type": "execute_result"
    }
   ],
   "source": [
    "series.reset_index(drop=True)"
   ]
  },
  {
   "cell_type": "markdown",
   "id": "d0efcd35-797a-46b7-9baf-6d580aa447bc",
   "metadata": {},
   "source": [
    "# Filtering series"
   ]
  },
  {
   "cell_type": "code",
   "execution_count": 116,
   "id": "2d956f26-e391-4087-afa4-2e24b6957e34",
   "metadata": {},
   "outputs": [
    {
     "data": {
      "text/plain": [
       "day 0    0\n",
       "day 1    1\n",
       "day 2    2\n",
       "day 3    3\n",
       "day 4    4\n",
       "dtype: int64"
      ]
     },
     "execution_count": 116,
     "metadata": {},
     "output_type": "execute_result"
    }
   ],
   "source": [
    "series.index=['day 0','day 1','day 2','day 3','day 4']\n",
    "\n",
    "series"
   ]
  },
  {
   "cell_type": "code",
   "execution_count": 118,
   "id": "f3529ea5-6230-4647-bc4c-de1cf7f7cbef",
   "metadata": {},
   "outputs": [
    {
     "data": {
      "text/plain": [
       "day 1    1\n",
       "dtype: int64"
      ]
     },
     "execution_count": 118,
     "metadata": {},
     "output_type": "execute_result"
    }
   ],
   "source": [
    "series.loc[series.index==\"day 1\"]"
   ]
  },
  {
   "cell_type": "code",
   "execution_count": 120,
   "id": "6d80dfa4-3ab4-4245-ba2f-8aeeff30accb",
   "metadata": {},
   "outputs": [
    {
     "data": {
      "text/plain": [
       "day 0    0\n",
       "day 2    2\n",
       "day 4    4\n",
       "dtype: int64"
      ]
     },
     "execution_count": 120,
     "metadata": {},
     "output_type": "execute_result"
    }
   ],
   "source": [
    "series.loc[series.isin([0,2,4])]"
   ]
  },
  {
   "cell_type": "code",
   "execution_count": 122,
   "id": "2ca3539d-b2d8-4bb8-bb2a-c562ae22b37c",
   "metadata": {},
   "outputs": [
    {
     "data": {
      "text/plain": [
       "day 1    1\n",
       "day 3    3\n",
       "dtype: int64"
      ]
     },
     "execution_count": 122,
     "metadata": {},
     "output_type": "execute_result"
    }
   ],
   "source": [
    "series.loc[~series.isin([0,2,4])]"
   ]
  },
  {
   "cell_type": "markdown",
   "id": "0f99969b-abf2-4ed9-ac44-c2a4010dfff9",
   "metadata": {},
   "source": [
    "# Sorting series"
   ]
  },
  {
   "cell_type": "code",
   "execution_count": 125,
   "id": "39770df9-6ed6-44b8-af56-229812c46118",
   "metadata": {},
   "outputs": [],
   "source": [
    "rng=np.random.default_rng(2022)"
   ]
  },
  {
   "cell_type": "code",
   "execution_count": 127,
   "id": "d533ba5a-5710-4e35-a41d-9fe5f1aeeede",
   "metadata": {},
   "outputs": [
    {
     "data": {
      "text/plain": [
       "array([0.24742606, 0.09299006, 0.61176337, 0.06066207, 0.66103343])"
      ]
     },
     "execution_count": 127,
     "metadata": {},
     "output_type": "execute_result"
    }
   ],
   "source": [
    "new_array=rng.random(5)\n",
    "\n",
    "new_array"
   ]
  },
  {
   "cell_type": "code",
   "execution_count": 129,
   "id": "4b00a24a-49dd-4635-86af-f37b045295bb",
   "metadata": {},
   "outputs": [
    {
     "data": {
      "text/plain": [
       "day 1    2.47\n",
       "day 3    0.93\n",
       "day 2    6.12\n",
       "day 0    0.61\n",
       "day 4    6.61\n",
       "dtype: float64"
      ]
     },
     "execution_count": 129,
     "metadata": {},
     "output_type": "execute_result"
    }
   ],
   "source": [
    "my_series=pd.Series(np.round(new_array*10,decimals=2),index=['day 1','day 3','day 2','day 0','day 4'])\n",
    "\n",
    "my_series "
   ]
  },
  {
   "cell_type": "code",
   "execution_count": 131,
   "id": "2c34cf38-a235-4345-85bc-6c4520f88001",
   "metadata": {},
   "outputs": [
    {
     "data": {
      "text/plain": [
       "day 0    0.61\n",
       "day 3    0.93\n",
       "day 1    2.47\n",
       "day 2    6.12\n",
       "day 4    6.61\n",
       "dtype: float64"
      ]
     },
     "execution_count": 131,
     "metadata": {},
     "output_type": "execute_result"
    }
   ],
   "source": [
    "my_series.sort_values()"
   ]
  },
  {
   "cell_type": "code",
   "execution_count": 133,
   "id": "ad1a4eeb-e25b-448c-ad19-368a037ab748",
   "metadata": {},
   "outputs": [
    {
     "data": {
      "text/plain": [
       "day 0    0.61\n",
       "day 1    2.47\n",
       "day 2    6.12\n",
       "day 3    0.93\n",
       "day 4    6.61\n",
       "dtype: float64"
      ]
     },
     "execution_count": 133,
     "metadata": {},
     "output_type": "execute_result"
    }
   ],
   "source": [
    "my_series.sort_index(ascending=True)"
   ]
  },
  {
   "cell_type": "markdown",
   "id": "ceca6774-afbf-420e-8a7b-32b4eaa43a30",
   "metadata": {},
   "source": [
    "# Series arithmetic operations"
   ]
  },
  {
   "cell_type": "code",
   "execution_count": 144,
   "id": "0d134ae8-b839-4d78-81d8-859ccc594715",
   "metadata": {},
   "outputs": [
    {
     "data": {
      "text/plain": [
       "0    0\n",
       "1    1\n",
       "2    2\n",
       "3    3\n",
       "4    4\n",
       "5    5\n",
       "6    6\n",
       "7    7\n",
       "8    8\n",
       "9    9\n",
       "dtype: int64"
      ]
     },
     "execution_count": 144,
     "metadata": {},
     "output_type": "execute_result"
    }
   ],
   "source": [
    "my_series=pd.Series(np.arange(10))\n",
    "\n",
    "my_series"
   ]
  },
  {
   "cell_type": "code",
   "execution_count": 150,
   "id": "ad03e219-fc18-42a7-bf89-3fb5ae98bc4b",
   "metadata": {},
   "outputs": [
    {
     "data": {
      "text/plain": [
       "0     2\n",
       "1     3\n",
       "2     4\n",
       "3     5\n",
       "4     6\n",
       "5     7\n",
       "6     8\n",
       "7     9\n",
       "8    10\n",
       "9    11\n",
       "dtype: int64"
      ]
     },
     "execution_count": 150,
     "metadata": {},
     "output_type": "execute_result"
    }
   ],
   "source": [
    "my_series+2\n",
    "# or my_series.add(2)"
   ]
  },
  {
   "cell_type": "code",
   "execution_count": 154,
   "id": "963390a9-29f5-49a9-b338-b949ab7334b1",
   "metadata": {},
   "outputs": [
    {
     "data": {
      "text/plain": [
       "0    0\n",
       "1    0\n",
       "2    1\n",
       "3    1\n",
       "4    2\n",
       "5    2\n",
       "6    3\n",
       "7    3\n",
       "8    4\n",
       "9    4\n",
       "dtype: int64"
      ]
     },
     "execution_count": 154,
     "metadata": {},
     "output_type": "execute_result"
    }
   ],
   "source": [
    "my_series//2"
   ]
  },
  {
   "cell_type": "code",
   "execution_count": 156,
   "id": "1cb1fcaf-8bc7-4019-ab49-9082f45e26a0",
   "metadata": {},
   "outputs": [
    {
     "data": {
      "text/plain": [
       "0    0.0\n",
       "1    0.5\n",
       "2    1.0\n",
       "3    1.5\n",
       "4    2.0\n",
       "5    2.5\n",
       "6    3.0\n",
       "7    3.5\n",
       "8    4.0\n",
       "9    4.5\n",
       "dtype: float64"
      ]
     },
     "execution_count": 156,
     "metadata": {},
     "output_type": "execute_result"
    }
   ],
   "source": [
    "my_series/2"
   ]
  },
  {
   "cell_type": "markdown",
   "id": "fdf99a17-6270-4441-a8f2-c3f537e52a55",
   "metadata": {},
   "source": [
    "# Series string methods"
   ]
  },
  {
   "cell_type": "code",
   "execution_count": 164,
   "id": "a9fbe452-c7ec-47bd-853a-e72448516de9",
   "metadata": {},
   "outputs": [
    {
     "data": {
      "text/plain": [
       "0    day 0\n",
       "1    day 1\n",
       "2    day 2\n",
       "dtype: object"
      ]
     },
     "execution_count": 164,
     "metadata": {},
     "output_type": "execute_result"
    }
   ],
   "source": [
    "string_series=pd.Series(['day 0','day 1','day 2'])\n",
    "\n",
    "string_series"
   ]
  },
  {
   "cell_type": "code",
   "execution_count": 168,
   "id": "a00a5705-ca98-4d78-93ff-e359e6b4bdd4",
   "metadata": {},
   "outputs": [
    {
     "data": {
      "text/plain": [
       "0    True\n",
       "1    True\n",
       "2    True\n",
       "dtype: bool"
      ]
     },
     "execution_count": 168,
     "metadata": {},
     "output_type": "execute_result"
    }
   ],
   "source": [
    "string_series.str.contains('day')"
   ]
  },
  {
   "cell_type": "code",
   "execution_count": 172,
   "id": "c885ed21-c088-481b-8ca9-ab395e72df51",
   "metadata": {},
   "outputs": [
    {
     "data": {
      "text/plain": [
       "0    0\n",
       "1    1\n",
       "2    2\n",
       "dtype: int64"
      ]
     },
     "execution_count": 172,
     "metadata": {},
     "output_type": "execute_result"
    }
   ],
   "source": [
    "string_series.str[-1].astype('int')"
   ]
  },
  {
   "cell_type": "code",
   "execution_count": 180,
   "id": "8f9fcdbf-c148-44d2-9cae-efd420544150",
   "metadata": {},
   "outputs": [
    {
     "data": {
      "text/html": [
       "<div>\n",
       "<style scoped>\n",
       "    .dataframe tbody tr th:only-of-type {\n",
       "        vertical-align: middle;\n",
       "    }\n",
       "\n",
       "    .dataframe tbody tr th {\n",
       "        vertical-align: top;\n",
       "    }\n",
       "\n",
       "    .dataframe thead th {\n",
       "        text-align: right;\n",
       "    }\n",
       "</style>\n",
       "<table border=\"1\" class=\"dataframe\">\n",
       "  <thead>\n",
       "    <tr style=\"text-align: right;\">\n",
       "      <th></th>\n",
       "      <th>0</th>\n",
       "      <th>1</th>\n",
       "    </tr>\n",
       "  </thead>\n",
       "  <tbody>\n",
       "    <tr>\n",
       "      <th>0</th>\n",
       "      <td>day</td>\n",
       "      <td>0</td>\n",
       "    </tr>\n",
       "    <tr>\n",
       "      <th>1</th>\n",
       "      <td>day</td>\n",
       "      <td>1</td>\n",
       "    </tr>\n",
       "    <tr>\n",
       "      <th>2</th>\n",
       "      <td>day</td>\n",
       "      <td>2</td>\n",
       "    </tr>\n",
       "  </tbody>\n",
       "</table>\n",
       "</div>"
      ],
      "text/plain": [
       "     0  1\n",
       "0  day  0\n",
       "1  day  1\n",
       "2  day  2"
      ]
     },
     "execution_count": 180,
     "metadata": {},
     "output_type": "execute_result"
    }
   ],
   "source": [
    "string_series.str.split(' ',expand=True)"
   ]
  },
  {
   "cell_type": "markdown",
   "id": "0a69b566-e0b9-4640-8b65-e77d51d7bcfe",
   "metadata": {},
   "source": [
    "# Aggregation"
   ]
  },
  {
   "cell_type": "code",
   "execution_count": 4,
   "id": "1b021a0b-be07-47e3-8120-2385985b1716",
   "metadata": {},
   "outputs": [],
   "source": [
    "import numpy as np\n",
    "import pandas as pd"
   ]
  },
  {
   "cell_type": "code",
   "execution_count": 13,
   "id": "c0431e2d-e3ba-41ad-b065-ce4402b97160",
   "metadata": {},
   "outputs": [
    {
     "data": {
      "text/plain": [
       "0    0.25\n",
       "1    0.09\n",
       "2    0.61\n",
       "3    0.06\n",
       "4    0.66\n",
       "5    0.76\n",
       "6    0.11\n",
       "7    0.04\n",
       "8    0.41\n",
       "9    0.99\n",
       "dtype: float64"
      ]
     },
     "execution_count": 13,
     "metadata": {},
     "output_type": "execute_result"
    }
   ],
   "source": [
    "rng=np.random.default_rng(2022)\n",
    "\n",
    "my_series=pd.Series(rng.random(10).round(2))\n",
    "\n",
    "my_series"
   ]
  },
  {
   "cell_type": "code",
   "execution_count": 15,
   "id": "da46d0ea-175d-4a0b-ad53-2c6bb42c142e",
   "metadata": {},
   "outputs": [
    {
     "data": {
      "text/plain": [
       "0.39799999999999996"
      ]
     },
     "execution_count": 15,
     "metadata": {},
     "output_type": "execute_result"
    }
   ],
   "source": [
    "my_series.mean()"
   ]
  },
  {
   "cell_type": "code",
   "execution_count": 17,
   "id": "5ad1780b-2741-4608-ad69-279d511a9bdb",
   "metadata": {},
   "outputs": [
    {
     "data": {
      "text/plain": [
       "0.32999999999999996"
      ]
     },
     "execution_count": 17,
     "metadata": {},
     "output_type": "execute_result"
    }
   ],
   "source": [
    "my_series.median()"
   ]
  },
  {
   "cell_type": "code",
   "execution_count": 23,
   "id": "23bf9390-03f5-4714-91e7-a4cdb254bd0f",
   "metadata": {},
   "outputs": [
    {
     "data": {
      "text/plain": [
       "10"
      ]
     },
     "execution_count": 23,
     "metadata": {},
     "output_type": "execute_result"
    }
   ],
   "source": [
    "my_series.count()"
   ]
  },
  {
   "cell_type": "code",
   "execution_count": null,
   "id": "e6c7d3a1-a074-4a09-9420-931c12d9c550",
   "metadata": {},
   "outputs": [],
   "source": []
  }
 ],
 "metadata": {
  "kernelspec": {
   "display_name": "Python [conda env:base] *",
   "language": "python",
   "name": "conda-base-py"
  },
  "language_info": {
   "codemirror_mode": {
    "name": "ipython",
    "version": 3
   },
   "file_extension": ".py",
   "mimetype": "text/x-python",
   "name": "python",
   "nbconvert_exporter": "python",
   "pygments_lexer": "ipython3",
   "version": "3.12.7"
  }
 },
 "nbformat": 4,
 "nbformat_minor": 5
}
