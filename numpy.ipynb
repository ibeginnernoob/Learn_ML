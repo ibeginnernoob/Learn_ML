{
 "cells": [
  {
   "cell_type": "code",
   "execution_count": 5,
   "id": "42f296c7-0e3a-4b6d-ae23-f81ef05c2eba",
   "metadata": {},
   "outputs": [],
   "source": [
    "import numpy as np"
   ]
  },
  {
   "cell_type": "code",
   "execution_count": 51,
   "id": "ccceecd7-19dc-4fd9-ada4-7b7fbcdaef99",
   "metadata": {},
   "outputs": [],
   "source": [
    "array=np.array([1,2,3,4,5])"
   ]
  },
  {
   "cell_type": "code",
   "execution_count": 53,
   "id": "362d4081-c96a-43b9-adfd-f450c2bfa908",
   "metadata": {},
   "outputs": [
    {
     "data": {
      "text/plain": [
       "array([1, 2, 3, 4, 5])"
      ]
     },
     "execution_count": 53,
     "metadata": {},
     "output_type": "execute_result"
    }
   ],
   "source": [
    "array"
   ]
  },
  {
   "cell_type": "code",
   "execution_count": 55,
   "id": "9a2d846a-bd65-4968-ae2f-78f1629dd96f",
   "metadata": {},
   "outputs": [
    {
     "data": {
      "text/plain": [
       "array([[0, 1, 2, 3, 4],\n",
       "       [0, 1, 2, 3, 4]])"
      ]
     },
     "execution_count": 55,
     "metadata": {},
     "output_type": "execute_result"
    }
   ],
   "source": [
    "array_2d=np.array([range(5),range(5)])\n",
    "array_2d"
   ]
  },
  {
   "cell_type": "code",
   "execution_count": 41,
   "id": "c4298428-0371-4a55-9f07-38ddd83e1d90",
   "metadata": {},
   "outputs": [
    {
     "name": "stdout",
     "output_type": "stream",
     "text": [
      "(2, 5)\n",
      "10\n",
      "int64\n",
      "2\n"
     ]
    }
   ],
   "source": [
    "print(array_2d.shape)\n",
    "print(array_2d.size)\n",
    "print(array_2d.dtype)\n",
    "print(array_2d.ndim)"
   ]
  },
  {
   "cell_type": "markdown",
   "id": "0983f7b4-a4f0-4e76-8f1d-36e9f68447c4",
   "metadata": {},
   "source": [
    "# Numpy Array creation functions"
   ]
  },
  {
   "cell_type": "code",
   "execution_count": 26,
   "id": "b919d2b5-1895-49c8-858f-8bac8347120a",
   "metadata": {},
   "outputs": [],
   "source": [
    "newarray=np.array([\"This\",\"is\",\"numpy\"])"
   ]
  },
  {
   "cell_type": "code",
   "execution_count": 28,
   "id": "5d7f7c8c-fadf-459c-b5e5-0ba87ce27ee5",
   "metadata": {},
   "outputs": [
    {
     "data": {
      "text/plain": [
       "dtype('<U5')"
      ]
     },
     "execution_count": 28,
     "metadata": {},
     "output_type": "execute_result"
    }
   ],
   "source": [
    "newarray.dtype"
   ]
  },
  {
   "cell_type": "code",
   "execution_count": 30,
   "id": "47249b41-faae-4df5-9a59-9869766338ec",
   "metadata": {},
   "outputs": [
    {
     "data": {
      "text/plain": [
       "array([1, 1, 1, 1, 1, 1, 1, 1, 1, 1])"
      ]
     },
     "execution_count": 30,
     "metadata": {},
     "output_type": "execute_result"
    }
   ],
   "source": [
    "np.ones(10,dtype='int').T"
   ]
  },
  {
   "cell_type": "code",
   "execution_count": 32,
   "id": "081bea49-f693-43c0-ab9e-607ac25809b4",
   "metadata": {},
   "outputs": [
    {
     "data": {
      "text/plain": [
       "array([[0, 0, 0, 0, 0, 0, 0, 0, 0, 0],\n",
       "       [0, 0, 0, 0, 0, 0, 0, 0, 0, 0],\n",
       "       [0, 0, 0, 0, 0, 0, 0, 0, 0, 0],\n",
       "       [0, 0, 0, 0, 0, 0, 0, 0, 0, 0],\n",
       "       [0, 0, 0, 0, 0, 0, 0, 0, 0, 0],\n",
       "       [0, 0, 0, 0, 0, 0, 0, 0, 0, 0],\n",
       "       [0, 0, 0, 0, 0, 0, 0, 0, 0, 0],\n",
       "       [0, 0, 0, 0, 0, 0, 0, 0, 0, 0],\n",
       "       [0, 0, 0, 0, 0, 0, 0, 0, 0, 0],\n",
       "       [0, 0, 0, 0, 0, 0, 0, 0, 0, 0]])"
      ]
     },
     "execution_count": 32,
     "metadata": {},
     "output_type": "execute_result"
    }
   ],
   "source": [
    "np.zeros(100,'int').reshape(10,10)"
   ]
  },
  {
   "cell_type": "code",
   "execution_count": 34,
   "id": "5f7d3904-55f9-4c54-a2dd-284507149526",
   "metadata": {},
   "outputs": [
    {
     "data": {
      "text/plain": [
       "array([[1., 0., 0., 0., 0., 0., 0., 0., 0., 0.],\n",
       "       [0., 1., 0., 0., 0., 0., 0., 0., 0., 0.],\n",
       "       [0., 0., 1., 0., 0., 0., 0., 0., 0., 0.],\n",
       "       [0., 0., 0., 1., 0., 0., 0., 0., 0., 0.],\n",
       "       [0., 0., 0., 0., 1., 0., 0., 0., 0., 0.],\n",
       "       [0., 0., 0., 0., 0., 1., 0., 0., 0., 0.],\n",
       "       [0., 0., 0., 0., 0., 0., 1., 0., 0., 0.],\n",
       "       [0., 0., 0., 0., 0., 0., 0., 1., 0., 0.],\n",
       "       [0., 0., 0., 0., 0., 0., 0., 0., 1., 0.],\n",
       "       [0., 0., 0., 0., 0., 0., 0., 0., 0., 1.]])"
      ]
     },
     "execution_count": 34,
     "metadata": {},
     "output_type": "execute_result"
    }
   ],
   "source": [
    "np.identity(10)"
   ]
  },
  {
   "cell_type": "code",
   "execution_count": 36,
   "id": "b5b37769-0166-4dc7-9b5b-975c1e27b108",
   "metadata": {},
   "outputs": [
    {
     "data": {
      "text/plain": [
       "array([10, 12, 14, 16, 18, 20])"
      ]
     },
     "execution_count": 36,
     "metadata": {},
     "output_type": "execute_result"
    }
   ],
   "source": [
    "np.arange(10,21,2)"
   ]
  },
  {
   "cell_type": "code",
   "execution_count": 38,
   "id": "2c39b3c8-78c0-4820-b221-24e1d5f81f4a",
   "metadata": {},
   "outputs": [
    {
     "data": {
      "text/plain": [
       "array([  0.,  10.,  20.,  30.,  40.,  50.,  60.,  70.,  80.,  90., 100.])"
      ]
     },
     "execution_count": 38,
     "metadata": {},
     "output_type": "execute_result"
    }
   ],
   "source": [
    "np.linspace(0,100,11)"
   ]
  },
  {
   "cell_type": "markdown",
   "id": "100bb8c8-47fd-4d23-bce8-256563e7cc0c",
   "metadata": {},
   "source": [
    "# Numpy random number generation"
   ]
  },
  {
   "cell_type": "code",
   "execution_count": 72,
   "id": "562899ea-820f-4567-b3bb-ed638769c32d",
   "metadata": {},
   "outputs": [],
   "source": [
    "rng=np.random.default_rng(2022)"
   ]
  },
  {
   "cell_type": "code",
   "execution_count": 76,
   "id": "805e5455-08a2-4b8b-bf60-5f518244bca0",
   "metadata": {},
   "outputs": [
    {
     "data": {
      "text/plain": [
       "array([0.96919869, 0.25697153, 0.55876211, 0.24234798, 0.32202029,\n",
       "       0.89135975, 0.94611366, 0.72253931, 0.92847437, 0.99608701])"
      ]
     },
     "execution_count": 76,
     "metadata": {},
     "output_type": "execute_result"
    }
   ],
   "source": [
    "rng.random(10)"
   ]
  },
  {
   "cell_type": "code",
   "execution_count": 80,
   "id": "4c14478a-cffc-4967-8fe7-0ba6629b345a",
   "metadata": {},
   "outputs": [
    {
     "data": {
      "text/plain": [
       "array([2, 2, 6, 1, 8, 3, 3, 6, 2, 8, 3, 2, 7, 5, 4, 5, 9, 1, 6, 9, 4, 6,\n",
       "       7, 9, 2, 2, 9, 9, 2, 5, 7, 6, 5, 4, 4, 7, 3, 6, 4, 8, 5, 1, 8, 6,\n",
       "       8, 8, 9, 7, 4, 8, 1, 7, 3, 5, 5, 4, 1, 7, 7, 9, 7, 3, 6, 7, 6, 6,\n",
       "       7, 6, 6, 7, 9, 4, 7, 8, 8, 6, 9, 1, 6, 6, 3, 6, 3, 1, 1, 1, 1, 5,\n",
       "       5, 5, 5, 1, 6, 9, 5, 9, 5, 8, 4, 4])"
      ]
     },
     "execution_count": 80,
     "metadata": {},
     "output_type": "execute_result"
    }
   ],
   "source": [
    "rng.integers(1,10,100)"
   ]
  },
  {
   "cell_type": "code",
   "execution_count": 86,
   "id": "b46dccb5-1156-4776-8658-7b7c20e94e34",
   "metadata": {},
   "outputs": [
    {
     "data": {
      "text/plain": [
       "array([3.61115204, 5.3072852 , 6.11340639, 5.98128573, 4.49869887,\n",
       "       4.63560117, 7.10955   , 4.42935682, 4.26895327, 4.4879761 ])"
      ]
     },
     "execution_count": 86,
     "metadata": {},
     "output_type": "execute_result"
    }
   ],
   "source": [
    "rng.normal(5,1,10)"
   ]
  },
  {
   "cell_type": "markdown",
   "id": "1c70a62c-a5ca-4053-84f2-8ea0b2f468f9",
   "metadata": {},
   "source": [
    "# Numpy indexing and slicing"
   ]
  },
  {
   "cell_type": "code",
   "execution_count": 93,
   "id": "23a545cb-c1f6-4bc5-bb6f-cefedce764ab",
   "metadata": {},
   "outputs": [
    {
     "data": {
      "text/plain": [
       "array([ 0,  1,  2,  3,  4,  5,  6,  7,  8,  9, 10, 11])"
      ]
     },
     "execution_count": 93,
     "metadata": {},
     "output_type": "execute_result"
    }
   ],
   "source": [
    "new_array=np.arange(12)\n",
    "new_array"
   ]
  },
  {
   "cell_type": "code",
   "execution_count": 97,
   "id": "7a3ec147-9584-4ff0-a731-2509ac16a947",
   "metadata": {},
   "outputs": [
    {
     "data": {
      "text/plain": [
       "5"
      ]
     },
     "execution_count": 97,
     "metadata": {},
     "output_type": "execute_result"
    }
   ],
   "source": [
    "new_array[5]"
   ]
  },
  {
   "cell_type": "code",
   "execution_count": 107,
   "id": "8455dc28-51f6-45e9-b158-3a10b868677d",
   "metadata": {},
   "outputs": [
    {
     "data": {
      "text/plain": [
       "array([1, 2, 3, 4])"
      ]
     },
     "execution_count": 107,
     "metadata": {},
     "output_type": "execute_result"
    }
   ],
   "source": [
    "new_array[1:5]"
   ]
  },
  {
   "cell_type": "code",
   "execution_count": 105,
   "id": "8fc40983-0db4-4264-b056-d2fc57178ada",
   "metadata": {},
   "outputs": [
    {
     "data": {
      "text/plain": [
       "array([[ 0,  1,  2,  3],\n",
       "       [ 4,  5,  6,  7],\n",
       "       [ 8,  9, 10, 11]])"
      ]
     },
     "execution_count": 105,
     "metadata": {},
     "output_type": "execute_result"
    }
   ],
   "source": [
    "new_2Darray=new_array.reshape(3,4)\n",
    "new_2Darray"
   ]
  },
  {
   "cell_type": "code",
   "execution_count": 111,
   "id": "ac17df1a-4d76-4b58-a227-85b5a5cb4460",
   "metadata": {},
   "outputs": [
    {
     "data": {
      "text/plain": [
       "10"
      ]
     },
     "execution_count": 111,
     "metadata": {},
     "output_type": "execute_result"
    }
   ],
   "source": [
    "new_2Darray[2,2]"
   ]
  },
  {
   "cell_type": "code",
   "execution_count": 115,
   "id": "6de03a27-9b90-47aa-94e3-b192a18310e6",
   "metadata": {},
   "outputs": [
    {
     "data": {
      "text/plain": [
       "array([[ 4,  5,  6,  7],\n",
       "       [ 8,  9, 10, 11]])"
      ]
     },
     "execution_count": 115,
     "metadata": {},
     "output_type": "execute_result"
    }
   ],
   "source": [
    "new_2Darray[1:,:]"
   ]
  },
  {
   "cell_type": "code",
   "execution_count": 123,
   "id": "c8755502-3933-4401-9fd0-e29f669a9b8e",
   "metadata": {},
   "outputs": [
    {
     "data": {
      "text/plain": [
       "array([[ 2,  3],\n",
       "       [ 6,  7],\n",
       "       [10, 11]])"
      ]
     },
     "execution_count": 123,
     "metadata": {},
     "output_type": "execute_result"
    }
   ],
   "source": [
    "new_2Darray[:,2:4]"
   ]
  },
  {
   "cell_type": "markdown",
   "id": "d1a683c8-9d1b-4f02-8268-ea57bd87bd2c",
   "metadata": {},
   "source": [
    "# Array operations"
   ]
  },
  {
   "cell_type": "code",
   "execution_count": 9,
   "id": "6eb7c994-a260-4b2d-bdff-3c455f0b9947",
   "metadata": {},
   "outputs": [
    {
     "data": {
      "text/plain": [
       "array([[0.57513632, 0.65642461, 0.0270377 , 0.50655723, 0.64716848],\n",
       "       [0.26905058, 0.96145813, 0.41011444, 0.53526499, 0.062028  ],\n",
       "       [0.1053834 , 0.54319365, 0.24362626, 0.74231498, 0.00225371],\n",
       "       [0.3672471 , 0.36697658, 0.06369904, 0.11757953, 0.77782075]])"
      ]
     },
     "execution_count": 9,
     "metadata": {},
     "output_type": "execute_result"
    }
   ],
   "source": [
    "rng=np.random.default_rng(2000)\n",
    "\n",
    "inventory=rng.random(20).reshape(4,5)\n",
    "\n",
    "inventory"
   ]
  },
  {
   "cell_type": "code",
   "execution_count": 13,
   "id": "feeac486-871d-4cf4-89aa-12633c02dd51",
   "metadata": {},
   "outputs": [
    {
     "data": {
      "text/plain": [
       "array([[5.75136319, 6.56424609, 0.27037704, 5.06557229, 6.47168476],\n",
       "       [2.69050583, 9.61458133, 4.10114436, 5.3526499 , 0.62028002],\n",
       "       [1.05383401, 5.43193648, 2.43626262, 7.42314979, 0.02253709],\n",
       "       [3.67247099, 3.66976584, 0.6369904 , 1.17579528, 7.77820746]])"
      ]
     },
     "execution_count": 13,
     "metadata": {},
     "output_type": "execute_result"
    }
   ],
   "source": [
    "inventory*10"
   ]
  },
  {
   "cell_type": "code",
   "execution_count": 15,
   "id": "c175e464-a833-4cb2-838a-c49374c3549f",
   "metadata": {},
   "outputs": [
    {
     "data": {
      "text/plain": [
       "array([[10.57513632, 10.65642461, 10.0270377 , 10.50655723, 10.64716848],\n",
       "       [10.26905058, 10.96145813, 10.41011444, 10.53526499, 10.062028  ],\n",
       "       [10.1053834 , 10.54319365, 10.24362626, 10.74231498, 10.00225371],\n",
       "       [10.3672471 , 10.36697658, 10.06369904, 10.11757953, 10.77782075]])"
      ]
     },
     "execution_count": 15,
     "metadata": {},
     "output_type": "execute_result"
    }
   ],
   "source": [
    "inventory+10"
   ]
  },
  {
   "cell_type": "code",
   "execution_count": 19,
   "id": "9ee23a4a-38cf-4e26-bd46-c2bdca79c43e",
   "metadata": {},
   "outputs": [
    {
     "data": {
      "text/plain": [
       "7.98033547566461"
      ]
     },
     "execution_count": 19,
     "metadata": {},
     "output_type": "execute_result"
    }
   ],
   "source": [
    "inventory.sum()"
   ]
  },
  {
   "cell_type": "code",
   "execution_count": 21,
   "id": "6a1f94b9-90c3-4ae3-b1fa-fe5eda5efe56",
   "metadata": {},
   "outputs": [
    {
     "data": {
      "text/plain": [
       "array([0.15474076, 0.63112478, 0.01108855, 0.27114235, 0.04014257])"
      ]
     },
     "execution_count": 21,
     "metadata": {},
     "output_type": "execute_result"
    }
   ],
   "source": [
    "inventory[0,:]*inventory[1,:]"
   ]
  },
  {
   "cell_type": "markdown",
   "id": "bd548909-2d0c-41f7-893f-38fce4952514",
   "metadata": {},
   "source": [
    "# Array filtering and numpy 'where'"
   ]
  },
  {
   "cell_type": "code",
   "execution_count": 27,
   "id": "3a88a7c0-07f0-4d88-9376-c8fc3eb12d1b",
   "metadata": {},
   "outputs": [
    {
     "data": {
      "text/plain": [
       "array([ 0,  1,  2,  3,  4,  5,  6,  7,  8,  9, 10, 11, 12, 13, 14, 15, 16,\n",
       "       17, 18, 19])"
      ]
     },
     "execution_count": 27,
     "metadata": {},
     "output_type": "execute_result"
    }
   ],
   "source": [
    "my_array=np.arange(20)\n",
    "my_array"
   ]
  },
  {
   "cell_type": "code",
   "execution_count": 31,
   "id": "b39a59ac-f7a1-422c-b620-1d85be50c362",
   "metadata": {},
   "outputs": [
    {
     "data": {
      "text/plain": [
       "array([ True, False,  True, False,  True, False,  True, False,  True,\n",
       "       False,  True, False,  True, False,  True, False,  True, False,\n",
       "        True, False])"
      ]
     },
     "execution_count": 31,
     "metadata": {},
     "output_type": "execute_result"
    }
   ],
   "source": [
    "my_array%2==0"
   ]
  },
  {
   "cell_type": "code",
   "execution_count": 29,
   "id": "fe406db7-419f-4cc6-8fbf-311d4b13128d",
   "metadata": {},
   "outputs": [
    {
     "data": {
      "text/plain": [
       "array([ 0,  2,  4,  6,  8, 10, 12, 14, 16, 18])"
      ]
     },
     "execution_count": 29,
     "metadata": {},
     "output_type": "execute_result"
    }
   ],
   "source": [
    "my_array[my_array%2==0]"
   ]
  },
  {
   "cell_type": "code",
   "execution_count": 33,
   "id": "3cd53ca9-5738-4a2a-910a-b0b401eb0d2f",
   "metadata": {},
   "outputs": [
    {
     "data": {
      "text/plain": [
       "array(['even', 'odd', 'even', 'odd', 'even', 'odd', 'even', 'odd', 'even',\n",
       "       'odd', 'even', 'odd', 'even', 'odd', 'even', 'odd', 'even', 'odd',\n",
       "       'even', 'odd'], dtype='<U4')"
      ]
     },
     "execution_count": 33,
     "metadata": {},
     "output_type": "execute_result"
    }
   ],
   "source": [
    "new_array=np.array(['even','odd']*10).reshape(20)\n",
    "new_array"
   ]
  },
  {
   "cell_type": "code",
   "execution_count": 37,
   "id": "d3d4b16b-8fac-4de4-bdb4-d4127dd8b245",
   "metadata": {},
   "outputs": [
    {
     "data": {
      "text/plain": [
       "array([ 0,  2,  4,  6,  8, 10, 12, 14, 16, 18])"
      ]
     },
     "execution_count": 37,
     "metadata": {},
     "output_type": "execute_result"
    }
   ],
   "source": [
    "my_array[new_array=='even']"
   ]
  },
  {
   "cell_type": "code",
   "execution_count": 43,
   "id": "4a5f1048-3686-4017-a035-15edcc58e808",
   "metadata": {},
   "outputs": [
    {
     "data": {
      "text/plain": [
       "array([ 0,  0,  2,  0,  4,  0,  6,  0,  8,  0, 10,  0, 12,  0, 14,  0, 16,\n",
       "        0, 18,  0])"
      ]
     },
     "execution_count": 43,
     "metadata": {},
     "output_type": "execute_result"
    }
   ],
   "source": [
    "my_array[new_array!='even']=0\n",
    "my_array"
   ]
  },
  {
   "cell_type": "code",
   "execution_count": 61,
   "id": "7c82b54c-7473-45b7-8504-c63d26834ceb",
   "metadata": {},
   "outputs": [
    {
     "data": {
      "text/plain": [
       "array([ 2,  4,  6,  8, 10, 12, 14, 16, 18])"
      ]
     },
     "execution_count": 61,
     "metadata": {},
     "output_type": "execute_result"
    }
   ],
   "source": [
    "mask=(my_array%2==0) & (my_array!=0)\n",
    "my_array[mask]"
   ]
  },
  {
   "cell_type": "code",
   "execution_count": 71,
   "id": "79b45235-4872-42d8-8ba8-ea359c45575a",
   "metadata": {},
   "outputs": [
    {
     "data": {
      "text/plain": [
       "array(['0', '0', 'even', '0', 'even', '0', 'even', '0', 'even', '0',\n",
       "       'even', '0', 'even', '0', 'even', '0', 'even', '0', 'even', '0'],\n",
       "      dtype='<U21')"
      ]
     },
     "execution_count": 71,
     "metadata": {},
     "output_type": "execute_result"
    }
   ],
   "source": [
    "np.where(mask,'even',np.where(my_array==0,my_array,'odd'))"
   ]
  },
  {
   "cell_type": "markdown",
   "id": "56db3edd-dfcd-4cc6-849e-6b4553a76441",
   "metadata": {},
   "source": [
    "# Array aggregation\n",
    "### Check out many more functions in the docs"
   ]
  },
  {
   "cell_type": "code",
   "execution_count": 6,
   "id": "81e59750-d2a2-483c-bc66-6dd586102596",
   "metadata": {},
   "outputs": [],
   "source": [
    "import numpy as np"
   ]
  },
  {
   "cell_type": "code",
   "execution_count": 12,
   "id": "2a300375-b210-47df-a095-3f592ea3b61d",
   "metadata": {},
   "outputs": [
    {
     "data": {
      "text/plain": [
       "array([0, 1, 2, 3, 4, 5, 6, 7, 8, 9])"
      ]
     },
     "execution_count": 12,
     "metadata": {},
     "output_type": "execute_result"
    }
   ],
   "source": [
    "array=np.arange(10)\n",
    "array"
   ]
  },
  {
   "cell_type": "code",
   "execution_count": 18,
   "id": "3fe351e7-5fcf-4429-bf14-1641c2902ba7",
   "metadata": {},
   "outputs": [
    {
     "data": {
      "text/plain": [
       "45"
      ]
     },
     "execution_count": 18,
     "metadata": {},
     "output_type": "execute_result"
    }
   ],
   "source": [
    "array.sum()"
   ]
  },
  {
   "cell_type": "code",
   "execution_count": 22,
   "id": "59d1111f-bc98-4cbe-95db-02262830123e",
   "metadata": {},
   "outputs": [
    {
     "data": {
      "text/plain": [
       "4.5"
      ]
     },
     "execution_count": 22,
     "metadata": {},
     "output_type": "execute_result"
    }
   ],
   "source": [
    "array.mean()"
   ]
  },
  {
   "cell_type": "code",
   "execution_count": 26,
   "id": "43a92315-02fb-46b7-a8b4-a3590d984c98",
   "metadata": {},
   "outputs": [
    {
     "data": {
      "text/plain": [
       "9"
      ]
     },
     "execution_count": 26,
     "metadata": {},
     "output_type": "execute_result"
    }
   ],
   "source": [
    "array.max()"
   ]
  },
  {
   "cell_type": "code",
   "execution_count": 30,
   "id": "b0a2fb06-40f4-4611-861d-2e952a69830c",
   "metadata": {},
   "outputs": [
    {
     "data": {
      "text/plain": [
       "0"
      ]
     },
     "execution_count": 30,
     "metadata": {},
     "output_type": "execute_result"
    }
   ],
   "source": [
    "array.min()"
   ]
  },
  {
   "cell_type": "code",
   "execution_count": 37,
   "id": "f6d4430a-0787-4088-94df-057843c3294d",
   "metadata": {},
   "outputs": [
    {
     "data": {
      "text/plain": [
       "4.5"
      ]
     },
     "execution_count": 37,
     "metadata": {},
     "output_type": "execute_result"
    }
   ],
   "source": [
    "np.median(array)"
   ]
  },
  {
   "cell_type": "code",
   "execution_count": 43,
   "id": "f0a9d7d4-5289-43bc-a237-ef8d548b126a",
   "metadata": {},
   "outputs": [
    {
     "data": {
      "text/plain": [
       "array([0., 0., 0., 0., 0., 0., 0., 0., 0., 0.])"
      ]
     },
     "execution_count": 43,
     "metadata": {},
     "output_type": "execute_result"
    }
   ],
   "source": [
    "new_array=np.zeros(10)\n",
    "new_array"
   ]
  },
  {
   "cell_type": "code",
   "execution_count": 47,
   "id": "b127b4bc-f65b-4b90-b4d2-a7ba51254bb4",
   "metadata": {},
   "outputs": [
    {
     "data": {
      "text/plain": [
       "array([0.])"
      ]
     },
     "execution_count": 47,
     "metadata": {},
     "output_type": "execute_result"
    }
   ],
   "source": [
    "np.unique(new_array)"
   ]
  },
  {
   "cell_type": "code",
   "execution_count": 53,
   "id": "f98b2829-8377-41e6-b0fe-54ab3990d458",
   "metadata": {},
   "outputs": [
    {
     "data": {
      "text/plain": [
       "array([0.        , 1.        , 1.41421356, 1.73205081, 2.        ,\n",
       "       2.23606798, 2.44948974, 2.64575131, 2.82842712, 3.        ])"
      ]
     },
     "execution_count": 53,
     "metadata": {},
     "output_type": "execute_result"
    }
   ],
   "source": [
    "np.sqrt(array)"
   ]
  },
  {
   "cell_type": "code",
   "execution_count": 57,
   "id": "acb3d0b9-3bc9-4ed1-a651-d17e88e5e6fa",
   "metadata": {},
   "outputs": [
    {
     "data": {
      "text/plain": [
       "array([[0, 1],\n",
       "       [2, 3],\n",
       "       [4, 5],\n",
       "       [6, 7],\n",
       "       [8, 9]])"
      ]
     },
     "execution_count": 57,
     "metadata": {},
     "output_type": "execute_result"
    }
   ],
   "source": [
    "array=np.arange(10).reshape(5,2)\n",
    "array"
   ]
  },
  {
   "cell_type": "code",
   "execution_count": 63,
   "id": "17909247-0eda-48d2-8f16-fb50ce4d72af",
   "metadata": {},
   "outputs": [
    {
     "data": {
      "text/plain": [
       "array([20, 25])"
      ]
     },
     "execution_count": 63,
     "metadata": {},
     "output_type": "execute_result"
    }
   ],
   "source": [
    "array.sum(axis=0)"
   ]
  },
  {
   "cell_type": "code",
   "execution_count": 65,
   "id": "36f1c68e-70d3-4143-b7ed-51bde7c191bf",
   "metadata": {},
   "outputs": [
    {
     "data": {
      "text/plain": [
       "array([ 1,  5,  9, 13, 17])"
      ]
     },
     "execution_count": 65,
     "metadata": {},
     "output_type": "execute_result"
    }
   ],
   "source": [
    "array.sum(axis=1)"
   ]
  },
  {
   "cell_type": "markdown",
   "id": "039284de-71ac-4496-b28c-bbb0217320f4",
   "metadata": {},
   "source": [
    "# Array sorting"
   ]
  },
  {
   "cell_type": "code",
   "execution_count": 69,
   "id": "9bd09618-bebb-4adc-a419-b58b218b13fa",
   "metadata": {},
   "outputs": [],
   "source": [
    "rng=np.random.default_rng(2022)"
   ]
  },
  {
   "cell_type": "code",
   "execution_count": 79,
   "id": "fe2e807f-71ff-42d7-9bc4-536e5a0a7696",
   "metadata": {},
   "outputs": [
    {
     "data": {
      "text/plain": [
       "array([ 4.51, 51.28, 47.7 , 48.6 , 90.79, 51.86, 54.3 , 48.37,  8.34,\n",
       "       45.12, 16.59,  0.4 , 29.45, 55.68, 86.62, 20.94, 52.1 , 50.37,\n",
       "        3.61, 89.57])"
      ]
     },
     "execution_count": 79,
     "metadata": {},
     "output_type": "execute_result"
    }
   ],
   "source": [
    "new_array=(rng.random(20)*100).round(2)\n",
    "new_array"
   ]
  },
  {
   "cell_type": "code",
   "execution_count": 81,
   "id": "b34a4946-bf53-4901-a7a8-098939ce7633",
   "metadata": {},
   "outputs": [
    {
     "data": {
      "text/plain": [
       "array([ 0.4 ,  3.61,  4.51,  8.34, 16.59, 20.94, 29.45, 45.12, 47.7 ,\n",
       "       48.37, 48.6 , 50.37, 51.28, 51.86, 52.1 , 54.3 , 55.68, 86.62,\n",
       "       89.57, 90.79])"
      ]
     },
     "execution_count": 81,
     "metadata": {},
     "output_type": "execute_result"
    }
   ],
   "source": [
    "np.sort(new_array)\n",
    "# for in place sorting array_name.sort()"
   ]
  },
  {
   "cell_type": "code",
   "execution_count": 99,
   "id": "3673f3ef-7b9c-413b-be64-e349866bf0fd",
   "metadata": {},
   "outputs": [],
   "source": [
    "new_array=new_array.reshape(10,2)"
   ]
  },
  {
   "cell_type": "code",
   "execution_count": 101,
   "id": "14bca7b1-ef77-4bbc-b9f2-5b279ec737d4",
   "metadata": {},
   "outputs": [
    {
     "data": {
      "text/plain": [
       "array([[ 0.4 ,  3.61],\n",
       "       [ 4.51,  8.34],\n",
       "       [16.59, 20.94],\n",
       "       [29.45, 45.12],\n",
       "       [47.7 , 48.37],\n",
       "       [48.6 , 50.37],\n",
       "       [51.28, 51.86],\n",
       "       [52.1 , 54.3 ],\n",
       "       [55.68, 86.62],\n",
       "       [89.57, 90.79]])"
      ]
     },
     "execution_count": 101,
     "metadata": {},
     "output_type": "execute_result"
    }
   ],
   "source": [
    "new_array.sort(axis=1)\n",
    "new_array"
   ]
  }
 ],
 "metadata": {
  "kernelspec": {
   "display_name": "Python [conda env:base] *",
   "language": "python",
   "name": "conda-base-py"
  },
  "language_info": {
   "codemirror_mode": {
    "name": "ipython",
    "version": 3
   },
   "file_extension": ".py",
   "mimetype": "text/x-python",
   "name": "python",
   "nbconvert_exporter": "python",
   "pygments_lexer": "ipython3",
   "version": "3.12.7"
  }
 },
 "nbformat": 4,
 "nbformat_minor": 5
}
